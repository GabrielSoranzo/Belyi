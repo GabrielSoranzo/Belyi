{
 "cells": [
  {
   "cell_type": "markdown",
   "metadata": {},
   "source": [
    "## Programme de calcul du modèle semi-stable"
   ]
  },
  {
   "cell_type": "markdown",
   "metadata": {},
   "source": [
    "On calcul le modèle semi-stable pour les polynôme de Belyi:\n",
    "$$ B(X)=X^a(1-X)^b $$"
   ]
  },
  {
   "cell_type": "markdown",
   "metadata": {},
   "source": [
    "Cellule à exécuter: définition des fonctions"
   ]
  },
  {
   "cell_type": "code",
   "execution_count": 1,
   "metadata": {},
   "outputs": [],
   "source": [
    "def epais(L):\n",
    "    I=L[-1::-1]\n",
    "    J=[]\n",
    "    for i in I:\n",
    "        if i<0:\n",
    "            J.append(-i)\n",
    "    K=[J[0]]\n",
    "    for j in range(1,len(J)):\n",
    "        K.append(J[j]-J[j-1])\n",
    "    return K\n",
    "\n",
    "def nbRed(vert):\n",
    "    for c in vert:\n",
    "        if c[1]==0:\n",
    "            return c[0]\n",
    "\n",
    "def Belyi(a,b,p):\n",
    "    n=a+b\n",
    "    c=a/n\n",
    "    l=a^a*b^b/n^n\n",
    "    X=var('X')\n",
    "    B=X^a*(1-X)^b\n",
    "    \n",
    "    \"\"\"print(\"Etude du polynôme de Belyi B(X):\")\n",
    "    show(B)\n",
    "    print(\"Sommet noir central a/n:\")\n",
    "    view(\"a/n\")\n",
    "    show(c)\n",
    "    print(\"Valeur critique non nulle lambda:\")\n",
    "    show(l)\"\"\"\n",
    "\n",
    "    G=Graph()\n",
    "    G.weighted(True)\n",
    "\n",
    "    K.<al>=Qp(p)\n",
    "    R.<x>=ZZ[]\n",
    "    \n",
    "    B1=B-l\n",
    "    D=B1.polynomial(K)\n",
    "\n",
    "    print(\"Etude au voisinage de 0: polygone de Newton de B(X)-lambda\")\n",
    "    show(plot((D.newton_polygon()),figsize=3))\n",
    "    NP=D.newton_polygon()\n",
    "    SNP=NP.slopes(repetition=False)\n",
    "    \n",
    "    v=QQ.valuation(p)\n",
    "    if v(a/n)<0:\n",
    "        S=\"Inf\"\n",
    "        print(\"Le sommet central (de multiplicité 2) a/n et \", nbRed(NP.vertices())-2, \"sommets avec lui se réduisent sur l'infini (ie I) avec une valuation de \", abs(SNP[0]),\"\\n\")\n",
    "    elif v(a/n)>0:\n",
    "        S=\"Z\"\n",
    "        print(\"Le sommet central (de multiplicité 2) a/n et \", nbRed(NP.vertices())-2, \"sommets avec lui se réduisent sur 0 (ie Z) avec une valuation de \", abs(SNP[0]),\"\\n\")\n",
    "    else:\n",
    "        S=\"B\"\n",
    "        print(\"Le sommet central a/n ainsi que tous les autres sommets noirs sont inversibles\\n\")\n",
    "        \n",
    "    if (SNP[0]<0):\n",
    "        G.add_edge((\"B\",\"Z\",-SNP[0]))\n",
    "    if(SNP[0]>0):\n",
    "        G.add_edge((\"B\",\"Inf\",SNP[0])) \n",
    "\n",
    "    if (SNP[0]!=0):\n",
    "        print(\"Création du graphe:\")\n",
    "        show(G.plot(edge_labels=True),figsize=3)\n",
    "    \n",
    "    if v(a/n)>0:\n",
    "        B4=B.substitute({X:1+X})-l\n",
    "        D=B4.polynomial(K)\n",
    "        print(\"Etude au voisinage de 1: polygone de Newton de B(1+X)-lambda\")\n",
    "        NP=D.newton_polygon()\n",
    "        show(plot(NP),figsize=3)\n",
    "        SNP=NP.slopes(repetition=False)\n",
    "        if SNP[0]<0:\n",
    "            G.add_edge((\"B\",\"I\",-SNP[0]))\n",
    "            print(\"Il y a \", nbRed(NP.vertices()), \"sommets se réduisent sur 1 avec une valuation de \", -SNP[0], \"\\n\")\n",
    "            print(\"Complétion du graphe:\")\n",
    "            show(G.plot(edge_labels=True),figsize=4)\n",
    "        else:\n",
    "            print(\"Rien à rajouter au graphe.\\n\")\n",
    "\n",
    "    \n",
    "    B2=B.substitute({X:a/n*X})*(n/a)^a*(n/b)^b\n",
    "    B3=B2.substitute({X:1+X})-1\n",
    "    D=B3.polynomial(K)\n",
    "\n",
    "    print(\"Etude au voisinage du sommet central a/n:\")\n",
    "    NP=D(x).newton_polygon()\n",
    "    show(plot(NP),figsize=3)\n",
    "    print(NP.vertices(),\"\\n\\n\")\n",
    "\n",
    "    SNP=NP.slopes(repetition=False)\n",
    "    Pe=epais(SNP)\n",
    "    print(\"Proximité des sommets se réduisant sur a/n -> opposé de \", SNP, \"\\n\")\n",
    "    if (Pe!=[]):\n",
    "        G.add_edge((S,0,Pe[0]))\n",
    "    i=0\n",
    "    for s in Pe[1:]:\n",
    "        G.add_edge((i,i+1,s))\n",
    "        i+=1\n",
    "\n",
    "    print(\"Graphe final pour:\\n\")\n",
    "    show(B)\n",
    "    show(G.plot(edge_labels=True),figsize=4)"
   ]
  },
  {
   "cell_type": "markdown",
   "metadata": {},
   "source": [
    "La fonction `Belyi(a,b,p)` étudie en justifiant le modèle semi-stable du polynôme de Belyi\n",
    "$$ B(X)=X^a(1-X)^b $$\n",
    "modulo un nombre premier $p$.\n",
    "Dans cette version on doit avoir $v_p(a)\\geq v_p(b)$."
   ]
  },
  {
   "cell_type": "code",
   "execution_count": 2,
   "metadata": {},
   "outputs": [
    {
     "name": "stdout",
     "output_type": "stream",
     "text": [
      "Etude au voisinage de 0: polygone de Newton de B(X)-lambda\n"
     ]
    },
    {
     "data": {
      "image/png": "[encoded data removed]",
      "text/plain": [
       "Graphics object consisting of 3 graphics primitives"
      ]
     },
     "metadata": {},
     "output_type": "display_data"
    },
    {
     "name": "stdout",
     "output_type": "stream",
     "text": [
      "Le sommet central a/n ainsi que tous les autres sommets noirs sont inversibles\n",
      "\n",
      "Etude au voisinage du sommet central a/n:\n"
     ]
    },
    {
     "data": {
      "image/png": "[encoded data removed]",
      "text/plain": [
       "Graphics object consisting of 3 graphics primitives"
      ]
     },
     "metadata": {},
     "output_type": "display_data"
    },
    {
     "name": "stdout",
     "output_type": "stream",
     "text": [
      "[(2, 2), (10, 1), (50, 0), (75, 0)] \n",
      "\n",
      "\n",
      "Proximité des sommets se réduisant sur a/n -> opposé de  [-1/8, -1/40, 0] \n",
      "\n",
      "Graphe final pour:\n",
      "\n"
     ]
    },
    {
     "data": {
      "text/html": [
       "<html><script type=\"math/tex; mode=display\">\\newcommand{\\Bold}[1]{\\mathbf{#1}}{\\left(X - 1\\right)}^{50} X^{25}</script></html>"
      ],
      "text/plain": [
       "(X - 1)^50*X^25"
      ]
     },
     "metadata": {},
     "output_type": "display_data"
    },
    {
     "data": {
      "image/png": "[encoded data removed]",
      "text/plain": [
       "Graphics object consisting of 8 graphics primitives"
      ]
     },
     "metadata": {},
     "output_type": "display_data"
    }
   ],
   "source": [
    "Belyi(25,50,5)"
   ]
  },
  {
   "cell_type": "code",
   "execution_count": null,
   "metadata": {},
   "outputs": [],
   "source": []
  }
 ],
 "metadata": {
  "kernelspec": {
   "display_name": "SageMath 9.0",
   "language": "sage",
   "name": "sagemath"
  },
  "language_info": {
   "codemirror_mode": {
    "name": "ipython",
    "version": 3
   },
   "file_extension": ".py",
   "mimetype": "text/x-python",
   "name": "python",
   "nbconvert_exporter": "python",
   "pygments_lexer": "ipython3",
   "version": "3.8.10"
  }
 },
 "nbformat": 4,
 "nbformat_minor": 2
}
